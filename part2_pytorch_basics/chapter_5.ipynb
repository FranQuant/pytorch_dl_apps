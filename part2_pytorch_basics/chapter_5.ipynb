{
 "cells": [
  {
   "cell_type": "markdown",
   "id": "92d61ca1-8a8f-42f8-832b-901e54ae0bd8",
   "metadata": {},
   "source": [
    "# Deep Learning Basics with PyTorch\n",
    "## Part II — Neural Networks and PyTorch Basics\n",
    "## Chapter 5 — The Limits of Classical ML"
   ]
  },
  {
   "cell_type": "markdown",
   "id": "d3bc53b6-3d58-4675-bb85-69a13b0aac1c",
   "metadata": {},
   "source": [
    "#### Overview\n",
    "This notebook provides a concise, hands-on walkthrough of Deep Learning Basics with PyTorch. Use it as a companion to the chapter: run each cell, read the short notes, and try small variations to build intuition.\n",
    "\n",
    "**Tips:**\n",
    "\n",
    "- Run cells top to bottom; restart kernel if state gets confusing.\n",
    "- Prefer small, fast experiments; iterate quickly and observe outputs.\n",
    "- Keep an eye on shapes, dtypes, and devices when using PyTorch."
   ]
  },
  {
   "cell_type": "code",
   "execution_count": 1,
   "id": "61b2e06a-0897-4342-8b5c-e5dae2251a7d",
   "metadata": {},
   "outputs": [],
   "source": [
    " # !pip -q install torch numpy matplotlib\n",
    "import torch, numpy as np, matplotlib.pyplot as plt\n",
    "plt.style.use('seaborn-v0_8')  # plotting\n",
    "%config InlineBackend.figure_format = 'retina'"
   ]
  },
  {
   "cell_type": "markdown",
   "id": "bbd2f683-e04a-4125-afe1-c6337838e7a4",
   "metadata": {},
   "source": [
    "## Tensors: creation, shapes, dtypes, devices"
   ]
  },
  {
   "cell_type": "code",
   "execution_count": 2,
   "id": "507925d4-a1c9-49ab-8f2f-8b2a02573cbc",
   "metadata": {},
   "outputs": [
    {
     "data": {
      "text/plain": [
       "(tensor([[1., 2., 3.],\n",
       "         [4., 5., 6.]]),\n",
       " torch.Size([2, 3]),\n",
       " torch.float32,\n",
       " device(type='cpu'))"
      ]
     },
     "execution_count": 2,
     "metadata": {},
     "output_type": "execute_result"
    }
   ],
   "source": [
    "x = torch.tensor([[1, 2, 3], [4, 5, 6]], dtype = torch.float32)\n",
    "x, x.shape, x.dtype, x.device"
   ]
  },
  {
   "cell_type": "code",
   "execution_count": 3,
   "id": "d5e6e4a2-32f7-4a1a-949a-4e16b513374e",
   "metadata": {},
   "outputs": [
    {
     "data": {
      "text/plain": [
       "(tensor([2.5000, 3.5000, 4.5000]),\n",
       " tensor([2., 5.]),\n",
       " tensor([[1., 4.],\n",
       "         [2., 5.],\n",
       "         [3., 6.]]))"
      ]
     },
     "execution_count": 3,
     "metadata": {},
     "output_type": "execute_result"
    }
   ],
   "source": [
    "x.mean(dim = 0), x.mean(dim = 1), x.T"
   ]
  },
  {
   "cell_type": "markdown",
   "id": "5c72ccf8-2c9e-4e7b-b975-489c820aee1e",
   "metadata": {},
   "source": [
    "## NumPy interop (zero-copy on CPU)"
   ]
  },
  {
   "cell_type": "code",
   "execution_count": 4,
   "id": "25365448-bd6b-4e79-b94d-189ab1a2a902",
   "metadata": {},
   "outputs": [
    {
     "data": {
      "text/plain": [
       "tensor([[ 0., 10., 20.],\n",
       "        [30., 40., 50.]])"
      ]
     },
     "execution_count": 4,
     "metadata": {},
     "output_type": "execute_result"
    }
   ],
   "source": [
    "a = np.arange(6, dtype = np.float32).reshape(2, 3)\n",
    "t = torch.from_numpy(a)\n",
    "a*= 10\n",
    "t"
   ]
  },
  {
   "cell_type": "code",
   "execution_count": 5,
   "id": "a8928c5f-f7ca-4cdf-8f3b-c2cbde5c01b7",
   "metadata": {},
   "outputs": [
    {
     "data": {
      "text/plain": [
       "array([[ 1., 11., 21.],\n",
       "       [31., 41., 51.]], dtype=float32)"
      ]
     },
     "execution_count": 5,
     "metadata": {},
     "output_type": "execute_result"
    }
   ],
   "source": [
    "u = t.numpy()\n",
    "t += 1\n",
    "u"
   ]
  },
  {
   "cell_type": "markdown",
   "id": "028c70e9-e94c-4f6f-8047-a63db72bce2d",
   "metadata": {},
   "source": [
    "## Broadcasting demo"
   ]
  },
  {
   "cell_type": "code",
   "execution_count": 6,
   "id": "9a5d8aa3-552f-40f5-b0f9-47b6c3bf48c5",
   "metadata": {},
   "outputs": [
    {
     "data": {
      "text/plain": [
       "(tensor([[0., 1., 2., 3.],\n",
       "         [1., 2., 3., 4.],\n",
       "         [2., 3., 4., 5.]]),\n",
       " torch.Size([3, 4]))"
      ]
     },
     "execution_count": 6,
     "metadata": {},
     "output_type": "execute_result"
    }
   ],
   "source": [
    "a = torch.arange(3.).reshape(3, 1)\n",
    "b = torch.arange(4.).reshape(1, 4)\n",
    "c = a+b\n",
    "c, c.shape"
   ]
  },
  {
   "cell_type": "markdown",
   "id": "b69110a3-910a-4f2a-9614-3ef41d1504bf",
   "metadata": {},
   "source": [
    "## Autograd: scalar gradient"
   ]
  },
  {
   "cell_type": "code",
   "execution_count": 7,
   "id": "4d37d352-4f3a-4ab8-aeec-acc4980ca6f0",
   "metadata": {},
   "outputs": [
    {
     "data": {
      "text/plain": [
       "(4.5, 6.25, 5.0)"
      ]
     },
     "execution_count": 7,
     "metadata": {},
     "output_type": "execute_result"
    }
   ],
   "source": [
    "w = torch.tensor(4.5, requires_grad = True)\n",
    "f = (w - 2)**2\n",
    "f.backward()\n",
    "  # Use .detach().item() to safely convert to Python scalars without autograd warnings\n",
    "w_val = w.detach().item()\n",
    "f_val = f.detach().item()\n",
    "g_val = w.grad.item()\n",
    "w_val, f_val, g_val"
   ]
  },
  {
   "cell_type": "code",
   "execution_count": 8,
   "id": "ac643d55-a543-45a7-8afb-34f059ef64a4",
   "metadata": {},
   "outputs": [
    {
     "name": "stdout",
     "output_type": "stream",
     "text": [
      "3.0\n"
     ]
    }
   ],
   "source": [
    "with torch.no_grad():\n",
    "    w -= 0.3 * w.grad\n",
    "    w.grad.zero_()\n",
    "    print(w.detach().item())  # Show the updated parameter value explicitly"
   ]
  }
 ],
 "metadata": {
  "kernelspec": {
   "display_name": "Python 3 (ipykernel)",
   "language": "python",
   "name": "python3"
  },
  "language_info": {
   "codemirror_mode": {
    "name": "ipython",
    "version": 3
   },
   "file_extension": ".py",
   "mimetype": "text/x-python",
   "name": "python",
   "nbconvert_exporter": "python",
   "pygments_lexer": "ipython3",
   "version": "3.12.11"
  }
 },
 "nbformat": 4,
 "nbformat_minor": 5
}
