{
 "cells": [
  {
   "cell_type": "markdown",
   "id": "b9994df9-b51e-4973-9ed8-cdeafdd622c0",
   "metadata": {},
   "source": [
    "---\n",
    "## Chapter 6 – First Steps with PyTorch\n",
    "---"
   ]
  },
  {
   "cell_type": "markdown",
   "id": "56fa153e-57e6-4d58-97d0-c4ef0e4245b4",
   "metadata": {},
   "source": [
    "## Exercises\n",
    "- Implement a custom activation and compare its curve to ReLU/GELU.\n",
    "- Assemble a tiny two-layer network and print intermediate shapes."
   ]
  },
  {
   "cell_type": "markdown",
   "id": "7f909af6-088e-4730-bcaa-a1cef4c2f122",
   "metadata": {},
   "source": [
    "- 1 Recreate the activation curve plot from the slides using torch.linspace and Matplotlib; annotate regions where sigmoid/tanh saturate."
   ]
  },
  {
   "cell_type": "markdown",
   "id": "720f8824-94f4-47b2-ab5c-0ce075e8f575",
   "metadata": {},
   "source": [
    "- 2 Implement the manual two-layer MLP forward pass (X @ W1 + b1) and verify tensor shapes with"
   ]
  },
  {
   "cell_type": "markdown",
   "id": "02cfdd93-8641-4d9f-9f4b-9085acf247e0",
   "metadata": {},
   "source": [
    "- 3 Inspect hidden activations by printing the proportion of zero outputs for ReLU vs tanh; explain why the rates differ."
   ]
  },
  {
   "cell_type": "markdown",
   "id": "b15d7457-409d-45ed-8f53-c8906ba78c83",
   "metadata": {},
   "source": [
    "- 4 Build the same network with nn.Sequential and copy the manual weights/biases; confirm"
   ]
  },
  {
   "cell_type": "markdown",
   "id": "92d545f9-9617-4f29-974f-3640702a4cfb",
   "metadata": {},
   "source": [
    "- 5 Count parameters for varying hidden widths (h ∈ {2, 4, 8, 16}) and tabulate how capacity grows; relate to potential overfitting."
   ]
  },
  {
   "cell_type": "code",
   "execution_count": null,
   "id": "0ff386da-8e4b-41e7-b728-a858543ee9ce",
   "metadata": {},
   "outputs": [],
   "source": []
  },
  {
   "cell_type": "code",
   "execution_count": null,
   "id": "e4611fdb-ad2f-4803-8d3c-991ef04e69ff",
   "metadata": {},
   "outputs": [],
   "source": []
  },
  {
   "cell_type": "code",
   "execution_count": null,
   "id": "36118535-25ed-4c77-ad37-f45f6202e916",
   "metadata": {},
   "outputs": [],
   "source": []
  },
  {
   "cell_type": "code",
   "execution_count": null,
   "id": "a77c2895-b89b-4765-a176-d3b447f8d508",
   "metadata": {},
   "outputs": [],
   "source": []
  },
  {
   "cell_type": "code",
   "execution_count": null,
   "id": "1d99610a-fc6f-405f-b3c1-e2e29e0c02b6",
   "metadata": {},
   "outputs": [],
   "source": []
  },
  {
   "cell_type": "code",
   "execution_count": null,
   "id": "9919c390-e640-463f-a636-f6dbe70c938e",
   "metadata": {},
   "outputs": [],
   "source": []
  },
  {
   "cell_type": "code",
   "execution_count": null,
   "id": "7906bf57-0dea-45ce-a1dd-97586c0a13ae",
   "metadata": {},
   "outputs": [],
   "source": []
  },
  {
   "cell_type": "code",
   "execution_count": null,
   "id": "f9c8da4a-c9cc-437c-bf3f-afca607d6173",
   "metadata": {},
   "outputs": [],
   "source": []
  }
 ],
 "metadata": {
  "kernelspec": {
   "display_name": "Python 3 (ipykernel)",
   "language": "python",
   "name": "python3"
  },
  "language_info": {
   "codemirror_mode": {
    "name": "ipython",
    "version": 3
   },
   "file_extension": ".py",
   "mimetype": "text/x-python",
   "name": "python",
   "nbconvert_exporter": "python",
   "pygments_lexer": "ipython3",
   "version": "3.12.11"
  }
 },
 "nbformat": 4,
 "nbformat_minor": 5
}
