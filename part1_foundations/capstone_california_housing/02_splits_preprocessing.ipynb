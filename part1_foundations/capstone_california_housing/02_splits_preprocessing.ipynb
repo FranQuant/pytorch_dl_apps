{
 "cells": [
  {
   "cell_type": "markdown",
   "id": "121f93d8-9ae1-42df-b169-69e314cbc268",
   "metadata": {},
   "source": [
    "# Capstone Project — California Housing  \n",
    "## Part 2: Data Splits & Preprocessing Pipeline\n",
    "\n",
    "**Objective:**  \n",
    "Prepare the dataset for model training by:\n",
    "- Creating reproducible 60/20/20 splits (train/validation/test).\n",
    "- Building preprocessing pipelines for scaling and optional log transformations.\n",
    "- Capturing environment dependencies for reproducibility.\n",
    "\n",
    "This stage ensures data cleanliness, reproducibility, and separation of train/test information to avoid leakage."
   ]
  },
  {
   "cell_type": "markdown",
   "id": "e7f137d7-b42f-42bd-bcbe-310d6da49e99",
   "metadata": {},
   "source": [
    "## Imports & seed setup"
   ]
  },
  {
   "cell_type": "code",
   "execution_count": 1,
   "id": "53a3ebc9-afc4-441e-8d4c-cc23a9fcbbb6",
   "metadata": {},
   "outputs": [],
   "source": [
    "# --- 0. Repro + Imports ---\n",
    "import os, random, numpy as np, pandas as pd\n",
    "from sklearn.datasets import fetch_california_housing\n",
    "from sklearn.model_selection import train_test_split\n",
    "from sklearn.preprocessing import StandardScaler, FunctionTransformer\n",
    "from sklearn.compose import ColumnTransformer\n",
    "from sklearn.pipeline import Pipeline\n",
    "import joblib\n",
    "\n",
    "SEED = 42\n",
    "random.seed(SEED); np.random.seed(SEED); os.environ[\"PYTHONHASHSEED\"]=str(SEED)"
   ]
  },
  {
   "cell_type": "markdown",
   "id": "0dc94a9c-861f-4bb6-b36e-f95679edb7ae",
   "metadata": {},
   "source": [
    "## Load dataset"
   ]
  },
  {
   "cell_type": "code",
   "execution_count": 2,
   "id": "e0983aad-02b2-423f-9d8e-64b652ab90d4",
   "metadata": {},
   "outputs": [
    {
     "data": {
      "text/html": [
       "<div>\n",
       "<style scoped>\n",
       "    .dataframe tbody tr th:only-of-type {\n",
       "        vertical-align: middle;\n",
       "    }\n",
       "\n",
       "    .dataframe tbody tr th {\n",
       "        vertical-align: top;\n",
       "    }\n",
       "\n",
       "    .dataframe thead th {\n",
       "        text-align: right;\n",
       "    }\n",
       "</style>\n",
       "<table border=\"1\" class=\"dataframe\">\n",
       "  <thead>\n",
       "    <tr style=\"text-align: right;\">\n",
       "      <th></th>\n",
       "      <th>MedInc</th>\n",
       "      <th>HouseAge</th>\n",
       "      <th>AveRooms</th>\n",
       "      <th>AveBedrms</th>\n",
       "      <th>Population</th>\n",
       "      <th>AveOccup</th>\n",
       "      <th>Latitude</th>\n",
       "      <th>Longitude</th>\n",
       "      <th>target</th>\n",
       "    </tr>\n",
       "  </thead>\n",
       "  <tbody>\n",
       "    <tr>\n",
       "      <th>0</th>\n",
       "      <td>8.3252</td>\n",
       "      <td>41.0</td>\n",
       "      <td>6.984127</td>\n",
       "      <td>1.023810</td>\n",
       "      <td>322.0</td>\n",
       "      <td>2.555556</td>\n",
       "      <td>37.88</td>\n",
       "      <td>-122.23</td>\n",
       "      <td>4.526</td>\n",
       "    </tr>\n",
       "    <tr>\n",
       "      <th>1</th>\n",
       "      <td>8.3014</td>\n",
       "      <td>21.0</td>\n",
       "      <td>6.238137</td>\n",
       "      <td>0.971880</td>\n",
       "      <td>2401.0</td>\n",
       "      <td>2.109842</td>\n",
       "      <td>37.86</td>\n",
       "      <td>-122.22</td>\n",
       "      <td>3.585</td>\n",
       "    </tr>\n",
       "    <tr>\n",
       "      <th>2</th>\n",
       "      <td>7.2574</td>\n",
       "      <td>52.0</td>\n",
       "      <td>8.288136</td>\n",
       "      <td>1.073446</td>\n",
       "      <td>496.0</td>\n",
       "      <td>2.802260</td>\n",
       "      <td>37.85</td>\n",
       "      <td>-122.24</td>\n",
       "      <td>3.521</td>\n",
       "    </tr>\n",
       "  </tbody>\n",
       "</table>\n",
       "</div>"
      ],
      "text/plain": [
       "   MedInc  HouseAge  AveRooms  AveBedrms  Population  AveOccup  Latitude  \\\n",
       "0  8.3252      41.0  6.984127   1.023810       322.0  2.555556     37.88   \n",
       "1  8.3014      21.0  6.238137   0.971880      2401.0  2.109842     37.86   \n",
       "2  7.2574      52.0  8.288136   1.073446       496.0  2.802260     37.85   \n",
       "\n",
       "   Longitude  target  \n",
       "0    -122.23   4.526  \n",
       "1    -122.22   3.585  \n",
       "2    -122.24   3.521  "
      ]
     },
     "execution_count": 2,
     "metadata": {},
     "output_type": "execute_result"
    }
   ],
   "source": [
    "# --- 1. Load Data ---\n",
    "data = fetch_california_housing(as_frame=True)\n",
    "df = data.frame.copy()\n",
    "df.rename(columns={\"MedHouseVal\": \"target\"}, inplace=True)\n",
    "df.head(3)"
   ]
  },
  {
   "cell_type": "markdown",
   "id": "b9c4ad5d-351f-49cb-897d-35e1340400fe",
   "metadata": {},
   "source": [
    "## Split logic"
   ]
  },
  {
   "cell_type": "code",
   "execution_count": 3,
   "id": "7577955a-bb93-4efe-990b-664508ddc039",
   "metadata": {},
   "outputs": [
    {
     "name": "stdout",
     "output_type": "stream",
     "text": [
      "Train: 12384, Val: 4128, Test: 4128\n"
     ]
    }
   ],
   "source": [
    "# --- 2. Split Data (60/20/20) ---\n",
    "X = df.drop(\"target\", axis=1)\n",
    "y = df[\"target\"]\n",
    "\n",
    "# 60/20/20 split\n",
    "X_train, X_temp, y_train, y_temp = train_test_split(X, y, test_size=0.4, random_state=42)\n",
    "X_val, X_test, y_val, y_test = train_test_split(X_temp, y_temp, test_size=0.5, random_state=42)\n",
    "\n",
    "print(f\"Train: {len(X_train)}, Val: {len(X_val)}, Test: {len(X_test)}\")"
   ]
  },
  {
   "cell_type": "markdown",
   "id": "13b54300-d746-4d33-866e-35dbac6b604d",
   "metadata": {},
   "source": [
    "## Preprocessing Pipeline"
   ]
  },
  {
   "cell_type": "code",
   "execution_count": 4,
   "id": "936f5fc4-b24c-4460-a7a7-1e49aca77403",
   "metadata": {},
   "outputs": [
    {
     "name": "stdout",
     "output_type": "stream",
     "text": [
      "Shapes: (12384, 8) (4128, 8) (4128, 8)\n"
     ]
    }
   ],
   "source": [
    "# --- 3. Preprocessing Pipeline ---\n",
    "log_features = [\"MedInc\", \"AveRooms\", \"AveBedrms\", \"Population\", \"AveOccup\"]\n",
    "log_transformer = Pipeline([(\"log\", FunctionTransformer(np.log1p, validate=False)),\n",
    "                            (\"scaler\", StandardScaler())])\n",
    "\n",
    "num_features = [col for col in X.columns if col not in log_features]\n",
    "num_transformer = Pipeline([(\"scaler\", StandardScaler())])\n",
    "\n",
    "preprocessor = ColumnTransformer([\n",
    "    (\"log_scaled\", log_transformer, log_features),\n",
    "    (\"scaled\", num_transformer, num_features)\n",
    "])\n",
    "\n",
    "# Fit & transform\n",
    "X_train_prep = preprocessor.fit_transform(X_train)\n",
    "X_val_prep = preprocessor.transform(X_val)\n",
    "X_test_prep = preprocessor.transform(X_test)\n",
    "\n",
    "print(\"Shapes:\", X_train_prep.shape, X_val_prep.shape, X_test_prep.shape)"
   ]
  },
  {
   "cell_type": "markdown",
   "id": "4dd419be-73ac-48e1-b7b0-6615f95d3625",
   "metadata": {},
   "source": [
    "## Save preprocessor"
   ]
  },
  {
   "cell_type": "code",
   "execution_count": 5,
   "id": "0bf90fb3-2cf4-4d2f-949d-cae9609c5573",
   "metadata": {},
   "outputs": [
    {
     "name": "stdout",
     "output_type": "stream",
     "text": [
      "Preprocessor saved as preprocessor.pkl\n"
     ]
    }
   ],
   "source": [
    "joblib.dump(preprocessor, \"preprocessor.pkl\")\n",
    "print(\"Preprocessor saved as preprocessor.pkl\")"
   ]
  },
  {
   "cell_type": "markdown",
   "id": "c2e38329-9662-4528-b71c-456699eea8e4",
   "metadata": {},
   "source": [
    "## Environment snapshot"
   ]
  },
  {
   "cell_type": "code",
   "execution_count": 6,
   "id": "7a8e2a06-4254-4de9-875e-79e0e72fd624",
   "metadata": {},
   "outputs": [
    {
     "name": "stdout",
     "output_type": "stream",
     "text": [
      "numpy @ file:///private/var/folders/k1/30mswbxs7r1g6zwn8y4fyt500000gp/T/abs_8cclhhg0x3/croot/numpy_and_numpy_base_1755590859900/work/dist/numpy-2.2.5-cp312-cp312-macosx_11_0_arm64.whl#sha256=f2d995e91fd194392feaa446357eb199182af2d1686c264d5c4b75a0c272253c\n",
      "scikit-learn @ file:///opt/miniconda3/conda-bld/scikit-learn_1758620846586/work\n",
      "torch==2.8.0\n",
      "torchaudio==2.8.0\n",
      "torchvision==0.23.0\n"
     ]
    }
   ],
   "source": [
    "# --- 5. Environment Snapshot ---\n",
    "!pip freeze | grep -E \"torch|numpy|scikit-learn\" > env_snapshot.txt\n",
    "!cat env_snapshot.txt"
   ]
  },
  {
   "cell_type": "markdown",
   "id": "fc52e7ca-328c-4888-8892-3d6800ca26ce",
   "metadata": {},
   "source": [
    "### Summary\n",
    "Data successfully split into reproducible train/validation/test sets.\n",
    "Preprocessing pipeline (log + scaling) serialized to `preprocessor.pkl`.\n",
    "Environment snapshot stored in `env_snapshot.txt` for full reproducibility."
   ]
  }
 ],
 "metadata": {
  "kernelspec": {
   "display_name": "Python 3 (ipykernel)",
   "language": "python",
   "name": "python3"
  },
  "language_info": {
   "codemirror_mode": {
    "name": "ipython",
    "version": 3
   },
   "file_extension": ".py",
   "mimetype": "text/x-python",
   "name": "python",
   "nbconvert_exporter": "python",
   "pygments_lexer": "ipython3",
   "version": "3.12.11"
  }
 },
 "nbformat": 4,
 "nbformat_minor": 5
}
