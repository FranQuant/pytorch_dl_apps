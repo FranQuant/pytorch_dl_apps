{
 "cells": [
  {
   "cell_type": "markdown",
   "id": "2051b719-02c4-416a-b1bb-dc145c08d3bc",
   "metadata": {},
   "source": [
    "# *Deep Learning Basics with PyTorch*\n",
    "# Part I — Foundations of Machine Learning\n",
    "## Chapter 1: Machine Learning Overview"
   ]
  },
  {
   "cell_type": "code",
   "execution_count": null,
   "id": "d6f6fe3d-cb2a-4481-bbd3-43a3c81b71fe",
   "metadata": {},
   "outputs": [],
   "source": [
    "import pandas as pd\n",
    "import numpy as np\n",
    "from sklearn.linear_model import LinearRegression\n",
    "from sklearn.metrics import mean_absolute_error\n",
    "from sklearn.model_selection import train_test_split\n",
    "import matplotlib.pyplot as plt\n",
    "plt.style.use('seaborn-v0_8')  # plotting\n",
    "%config InlineBackend.figure_format = 'retina'"
   ]
  },
  {
   "cell_type": "markdown",
   "id": "088f36c4-717e-45c7-a707-8815cff37e6a",
   "metadata": {},
   "source": [
    "### Section 1.1 - Minimal Linear Regression"
   ]
  },
  {
   "cell_type": "code",
   "execution_count": null,
   "id": "e2b71f95-e297-4e59-90d0-550d39f9a266",
   "metadata": {},
   "outputs": [],
   "source": [
    "X = np.array([[0.0], [1.0], [2.0], [3.0]], dtype=float)  # inputs\n",
    "y = np.array([0.0, 1.0, 2.1, 2.9], dtype=float)  # targets\n",
    "\n",
    "model = LinearRegression().fit(X, y)\n",
    "coef = model.coef_.ravel().tolist()\n",
    "intercept = float(model.intercept_)\n",
    "\n",
    "print(f\"coef = {coef}  intercept = {intercept:.3f}\")\n",
    "\n",
    "pred = model.predict(X)\n",
    "for xi, yi, pi in zip(X.ravel(), y, pred):\n",
    "    print(f\"x = {xi:.1f}  y = {yi:.2f}  pred = {pi:.2f}\")"
   ]
  },
  {
   "cell_type": "code",
   "execution_count": null,
   "id": "1d0c5e42-8505-4b2d-95dd-660b2f6372cd",
   "metadata": {},
   "outputs": [],
   "source": [
    "plt.figure(figsize=(4, 3))\n",
    "plt.scatter(X, y, label='data')\n",
    "xx = np.linspace(0, 3, 50).reshape(-1, 1)\n",
    "plt.plot(xx, model.predict(xx), 'r-', label='fit')\n",
    "plt.xlabel('x')\n",
    "plt.ylabel('y')\n",
    "plt.legend()\n",
    "plt.tight_layout()\n",
    "plt.show()"
   ]
  },
  {
   "cell_type": "markdown",
   "id": "6b77f0f6-e972-43d8-83d3-068a515e6114",
   "metadata": {},
   "source": [
    "#### What it teaches:\n",
    "- The data → model → fit → prediction → visualization workflow.\n",
    "- Manual inspection of coefficients, intercepts, and predictions."
   ]
  },
  {
   "cell_type": "markdown",
   "id": "bfce4afc-93b0-488b-9599-402ca1e99aa7",
   "metadata": {},
   "source": [
    "## Section 1.2 - Train/Test Split and MAE Evaluation"
   ]
  },
  {
   "cell_type": "code",
   "execution_count": null,
   "id": "d6dab6b6-b78d-42ce-ba7b-6a5bdfdf4cc6",
   "metadata": {},
   "outputs": [],
   "source": [
    "rng = np.random.default_rng(0)  # reproducible noise\n",
    "X = np.linspace(0, 4, 20, dtype=float).reshape(-1, 1)\n",
    "noise = rng.normal(0, 0.05, size=X.shape[0])\n",
    "y = 0.95 * X.ravel() + 0.1 + noise\n",
    "\n",
    "X_train, X_test, y_train, y_test = train_test_split(\n",
    "    X, y, test_size=0.25, random_state=42\n",
    ")\n",
    "model = LinearRegression().fit(X_train, y_train)\n",
    "y_pred = model.predict(X_test)\n",
    "mae = mean_absolute_error(y_test, y_pred)\n",
    "print(f\"Test MAE: {mae:.4f}\")"
   ]
  },
  {
   "cell_type": "markdown",
   "id": "cdff8d8c-82fb-4a87-949a-5a7a0fc12bd7",
   "metadata": {},
   "source": [
    "## Excercises\n",
    "#### Load and Prepare Data"
   ]
  },
  {
   "cell_type": "code",
   "execution_count": null,
   "id": "dd0a92ca-e185-4006-b1da-d6fbbac70cf0",
   "metadata": {},
   "outputs": [],
   "source": [
    "df = pd.read_csv(\"adr_prices_and_vol (3).csv\")\n",
    "df['Date'] = pd.to_datetime(df['Date'])\n",
    "df = df.sort_values('Date')"
   ]
  },
  {
   "cell_type": "markdown",
   "id": "7d076abb-2e32-422f-8eca-80e3f00fd859",
   "metadata": {},
   "source": [
    "#### Pick a Single Ticker (e.g. CPA)"
   ]
  },
  {
   "cell_type": "code",
   "execution_count": null,
   "id": "6c14c678-d4bf-4d8e-a025-1adf9f75eb48",
   "metadata": {},
   "outputs": [],
   "source": [
    "ticker = \"CPA\"\n",
    "\n",
    "# Build a mini DataFrame for this ticker\n",
    "df_t = df[['Date', f\"{ticker}_Price\"]].dropna().copy()\n",
    "df_t.rename(columns={f\"{ticker}_Price\": \"Price\"}, inplace=True)"
   ]
  },
  {
   "cell_type": "markdown",
   "id": "c887c2be-9c0f-438c-aab8-fad65a3cbba8",
   "metadata": {},
   "source": [
    "#### Create Next-Day Target (y = tomorrow’s price)"
   ]
  },
  {
   "cell_type": "code",
   "execution_count": null,
   "id": "500b77fa-613b-4a39-880c-90338f2a4e67",
   "metadata": {},
   "outputs": [],
   "source": [
    "df_t['Next_Price'] = df_t['Price'].shift(-1)\n",
    "df_t = df_t.dropna(subset=['Next_Price'])"
   ]
  },
  {
   "cell_type": "markdown",
   "id": "8dfe43f8-f329-4961-9bee-546a5c00dde4",
   "metadata": {},
   "source": [
    "#### Define Features (X) and Target (y)"
   ]
  },
  {
   "cell_type": "code",
   "execution_count": null,
   "id": "8e44e61b-2441-48b0-b3ba-cc4bd793bf97",
   "metadata": {},
   "outputs": [],
   "source": [
    "X = df_t[['Price']].values\n",
    "y = df_t['Next_Price'].values"
   ]
  },
  {
   "cell_type": "markdown",
   "id": "0db91337-4cd4-409d-9df4-56aa39737a23",
   "metadata": {},
   "source": [
    "#### Train/Test Split and Model Fit"
   ]
  },
  {
   "cell_type": "code",
   "execution_count": null,
   "id": "c5c1203e-3ce9-4636-8385-375a1a1fadbe",
   "metadata": {},
   "outputs": [],
   "source": [
    "X_train, X_test, y_train, y_test = train_test_split(X, y, test_size=0.25, random_state=42)\n",
    "\n",
    "model = LinearRegression().fit(X_train, y_train)\n",
    "y_pred = model.predict(X_test)\n",
    "\n",
    "mae = mean_absolute_error(y_test, y_pred)\n",
    "\n",
    "print(f\"Ticker: {ticker}\")\n",
    "print(f\"Coef: {model.coef_[0]:.4f}, Intercept: {model.intercept_:.4f}\")\n",
    "print(f\"Test MAE: {mae:.6f}\")"
   ]
  },
  {
   "cell_type": "markdown",
   "id": "10824bf8-e971-4154-9368-61b83acbc4af",
   "metadata": {},
   "source": [
    "#### Visualize Actual vs. Fitted Relationship"
   ]
  },
  {
   "cell_type": "code",
   "execution_count": null,
   "id": "8a9df9f8-c14b-4341-b6d6-7131a88c6666",
   "metadata": {},
   "outputs": [],
   "source": [
    "plt.figure(figsize=(5, 4))\n",
    "plt.scatter(X_test, y_test, alpha=0.6, label='Actual')\n",
    "plt.plot(np.sort(X_test, axis=0),\n",
    "         model.predict(np.sort(X_test, axis=0)),\n",
    "         color='red', lw=2, label='Fit')\n",
    "plt.xlabel(\"Today’s Price\")\n",
    "plt.ylabel(\"Tomorrow’s Price\")\n",
    "plt.title(f\"{ticker}: Price → Next-Day Price Regression\")\n",
    "plt.legend()\n",
    "plt.tight_layout()\n",
    "plt.show()"
   ]
  },
  {
   "cell_type": "markdown",
   "id": "5f7aa5ec-7ddc-4550-8283-a33bb3eaa298",
   "metadata": {},
   "source": [
    "#### What This Demonstrates\n",
    "“The data → model → fit → prediction → visualization workflow.”\n",
    "\n",
    "- **Input:** today’s close price\n",
    "\n",
    "- **Output:** next-day close\n",
    "\n",
    "- **Model:** LinearRegression (interpretable slope ≈ persistence)\n",
    "\n",
    "- **Metric:** Mean Absolute Error\n",
    "\n",
    "- **Visualization:** Actual vs. fitted line"
   ]
  }
 ],
 "metadata": {
  "kernelspec": {
   "display_name": "Python 3 (ipykernel)",
   "language": "python",
   "name": "python3"
  },
  "language_info": {
   "codemirror_mode": {
    "name": "ipython",
    "version": 3
   },
   "file_extension": ".py",
   "mimetype": "text/x-python",
   "name": "python",
   "nbconvert_exporter": "python",
   "pygments_lexer": "ipython3",
   "version": "3.14.0"
  }
 },
 "nbformat": 4,
 "nbformat_minor": 5
}
